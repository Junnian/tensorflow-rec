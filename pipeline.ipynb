{
 "cells": [
  {
   "cell_type": "code",
   "execution_count": null,
   "id": "edea7d5a-5c24-4561-bf26-7e79c09d1edb",
   "metadata": {},
   "outputs": [],
   "source": []
  },
  {
   "cell_type": "code",
   "execution_count": null,
   "id": "e960af60-7e93-43ff-b910-a18b3ffb1668",
   "metadata": {},
   "outputs": [],
   "source": []
  },
  {
   "cell_type": "code",
   "execution_count": null,
   "id": "f69d1e33-628b-4875-b0ae-6c0523bb0fa2",
   "metadata": {},
   "outputs": [],
   "source": []
  },
  {
   "cell_type": "code",
   "execution_count": null,
   "id": "e87faec1-ceb3-4d70-884a-2da1562354a3",
   "metadata": {},
   "outputs": [],
   "source": []
  },
  {
   "cell_type": "markdown",
   "id": "a73e64a1-19c5-4468-adc5-d958179f10ac",
   "metadata": {},
   "source": [
    "# 准备数据\n",
    "1. feature2type.pickle： 数据到类型映射\n",
    "2. feature2buckets.pickle: 需要分桶的类别特征对应的词表\n",
    "3. feature2bin.pickle: 需要分桶的数值特征的对应的边界"
   ]
  },
  {
   "cell_type": "code",
   "execution_count": 14,
   "id": "898f43b8-e668-4592-8b80-51fa6baab61c",
   "metadata": {},
   "outputs": [],
   "source": [
    "import os\n",
    "import pickle\n",
    "import pandas as pd\n",
    "from utils.utils import write_pickle, read_pickle"
   ]
  },
  {
   "cell_type": "code",
   "execution_count": 2,
   "id": "a3166d4d-95f4-46ea-80f4-68dfe27e7805",
   "metadata": {},
   "outputs": [],
   "source": [
    "trainingSamples = pd.read_csv(\"./data/trainingSamples.csv\")\n",
    "\n",
    "feature2type = {}\n",
    "for feature in trainingSamples.columns:\n",
    "    if trainingSamples[feature].dtypes == \"int64\":\n",
    "        feature2type[feature] = \"int32\"\n",
    "    elif trainingSamples[feature].dtypes == \"float64\":\n",
    "        feature2type[feature] = \"float32\"\n",
    "    else:\n",
    "        feature2type[feature] = \"string\"\n",
    "        \n",
    "write_pickle(feature2type, \"./data/feature2type.pickle\")"
   ]
  },
  {
   "cell_type": "code",
   "execution_count": 3,
   "id": "a5e951b0-6421-411f-bc17-58eb0e017a56",
   "metadata": {},
   "outputs": [],
   "source": [
    "genre_vocab = ['Film-Noir', 'Action', 'Adventure', 'Horror', 'Romance', 'War', 'Comedy', 'Western', 'Documentary',\n",
    "               'Sci-Fi', 'Drama', 'Thriller',\n",
    "               'Crime', 'Fantasy', 'Animation', 'IMAX', 'Mystery', 'Children', 'Musical']\n",
    "\n",
    "feature2buckets = {\n",
    "    'userGenre1': genre_vocab,\n",
    "    'userGenre2': genre_vocab,\n",
    "    'userGenre3': genre_vocab,\n",
    "    'userGenre4': genre_vocab,\n",
    "    'userGenre5': genre_vocab,\n",
    "    'movieGenre1': genre_vocab,\n",
    "    'movieGenre2': genre_vocab,\n",
    "    'movieGenre3': genre_vocab\n",
    "}\n",
    "\n",
    "write_pickle(feature2buckets, \"./data/feature2buckets.pickle\")"
   ]
  },
  {
   "cell_type": "markdown",
   "id": "2eab076e-be22-4641-9fc9-e3dff7709b24",
   "metadata": {},
   "source": [
    "# 配置特征\n",
    "修改：feature_config.py"
   ]
  },
  {
   "cell_type": "markdown",
   "id": "fba9b274-cb2a-461c-b962-173ed0f973f8",
   "metadata": {},
   "source": [
    "# 配置特征的处理方式\n",
    "修改：config.py"
   ]
  },
  {
   "cell_type": "markdown",
   "id": "b0c75024-8082-40a4-9cbf-0712f5dd0a2f",
   "metadata": {},
   "source": [
    "# 训练\n",
    "运行 train.py"
   ]
  },
  {
   "cell_type": "code",
   "execution_count": null,
   "id": "8bbdee67-b65e-4e11-a176-a4326d1953b4",
   "metadata": {},
   "outputs": [],
   "source": []
  }
 ],
 "metadata": {
  "kernelspec": {
   "display_name": "tf2",
   "language": "python",
   "name": "tf2"
  },
  "language_info": {
   "codemirror_mode": {
    "name": "ipython",
    "version": 3
   },
   "file_extension": ".py",
   "mimetype": "text/x-python",
   "name": "python",
   "nbconvert_exporter": "python",
   "pygments_lexer": "ipython3",
   "version": "3.9.0"
  }
 },
 "nbformat": 4,
 "nbformat_minor": 5
}
